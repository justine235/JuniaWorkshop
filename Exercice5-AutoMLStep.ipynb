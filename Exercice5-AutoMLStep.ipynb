{
  "cells": [
    {
      "cell_type": "code",
      "source": [
        "import json\r\n",
        "import logging\r\n",
        "import os\r\n",
        "\r\n",
        "from matplotlib import pyplot as plt\r\n",
        "import pandas as pd\r\n",
        "\r\n",
        "import azureml.core\r\n",
        "from azureml.core.experiment import Experiment\r\n",
        "from azureml.core.workspace import Workspace\r\n",
        "from azureml.train.automl import AutoMLConfig\r\n"
      ],
      "outputs": [],
      "execution_count": 1,
      "metadata": {
        "gather": {
          "logged": 1665676401129
        }
      }
    },
    {
      "cell_type": "code",
      "source": [
        "# ************ Variable d'environnement ************ #\r\n",
        "\r\n",
        "# connection au Workspace\r\n",
        "ws = ************    # to be filled\r\n",
        "\r\n",
        "\r\n",
        "# Choose a name for the run history container in the workspace.\r\n",
        "experiment_name = \"*********\"  # to be filled\r\n",
        "experiment = Experiment(ws, experiment_name)\r\n",
        "\r\n",
        "# compute name for the job \r\n",
        "compute_name = '***********'  # to be filled"
      ],
      "outputs": [],
      "execution_count": 4,
      "metadata": {
        "jupyter": {
          "source_hidden": false,
          "outputs_hidden": false
        },
        "nteract": {
          "transient": {
            "deleting": false
          }
        },
        "gather": {
          "logged": 1665675606028
        }
      }
    },
    {
      "cell_type": "code",
      "source": [
        "# ************ Pipeline step : Training ************ #\r\n",
        "from azureml.automl.core.shared.constants import ImageTask\r\n",
        "from azureml.train.automl import AutoMLImageConfig\r\n",
        "from azureml.train.hyperdrive import GridParameterSampling, choice\r\n",
        "from azureml.core import Workspace, Dataset\r\n",
        "\r\n",
        "\r\n",
        "automl_config_yolov5 = AutoMLImageConfig(\r\n",
        "    task=ImageTask.IMAGE_CLASSIFICATION,\r\n",
        "    compute_target = compute_name,\r\n",
        "    training_data = Dataset.get_by_name(*****************),    # to be filled\r\n",
        "    validation_data = Dataset.get_by_name(*****************),    # to be filled\r\n",
        "    hyperparameter_sampling = GridParameterSampling({\"model_name\": choice(\"yolov5\")}),\r\n",
        "    iterations=1,\r\n",
        ")\r\n"
      ],
      "outputs": [],
      "execution_count": 6,
      "metadata": {
        "jupyter": {
          "source_hidden": false,
          "outputs_hidden": false
        },
        "nteract": {
          "transient": {
            "deleting": false
          }
        },
        "gather": {
          "logged": 1665676231988
        }
      }
    },
    {
      "cell_type": "code",
      "source": [
        "# execute the pipeline\r\n",
        "automl_image_run = experiment.submit(*****************)     # to be filled"
      ],
      "outputs": [
        {
          "output_type": "stream",
          "name": "stdout",
          "text": "Submitting remote run.\n"
        },
        {
          "output_type": "display_data",
          "data": {
            "text/plain": "<IPython.core.display.HTML object>",
            "text/html": "<table style=\"width:100%\"><tr><th>Experiment</th><th>Id</th><th>Type</th><th>Status</th><th>Details Page</th><th>Docs Page</th></tr><tr><td>forecasting-pipeline</td><td>AutoML_2286d0a0-4ad0-4dc0-9c06-ac376293644e</td><td>automl</td><td>NotStarted</td><td><a href=\"https://ml.azure.com/runs/AutoML_2286d0a0-4ad0-4dc0-9c06-ac376293644e?wsid=/subscriptions/ca48e0de-9a05-49d6-bcba-f722fe00950b/resourcegroups/demo-form_recognizer/workspaces/rfiedokial&amp;tid=16b3c013-d300-468d-ac64-7eda0820b6d3\" target=\"_blank\" rel=\"noopener\">Link to Azure Machine Learning studio</a></td><td><a href=\"https://docs.microsoft.com/en-us/python/api/overview/azure/ml/intro?view=azure-ml-py\" target=\"_blank\" rel=\"noopener\">Link to Documentation</a></td></tr></table>"
          },
          "metadata": {}
        }
      ],
      "execution_count": 7,
      "metadata": {
        "jupyter": {
          "source_hidden": false,
          "outputs_hidden": false
        },
        "nteract": {
          "transient": {
            "deleting": false
          }
        },
        "gather": {
          "logged": 1665676255247
        }
      }
    }
  ],
  "metadata": {
    "kernelspec": {
      "name": "python38-azureml",
      "language": "python",
      "display_name": "Python 3.8 - AzureML"
    },
    "language_info": {
      "name": "python",
      "version": "3.8.5",
      "mimetype": "text/x-python",
      "codemirror_mode": {
        "name": "ipython",
        "version": 3
      },
      "pygments_lexer": "ipython3",
      "nbconvert_exporter": "python",
      "file_extension": ".py"
    },
    "kernel_info": {
      "name": "python38-azureml"
    },
    "nteract": {
      "version": "nteract-front-end@1.0.0"
    },
    "microsoft": {
      "host": {
        "AzureML": {
          "notebookHasBeenCompleted": true
        }
      }
    }
  },
  "nbformat": 4,
  "nbformat_minor": 2
}