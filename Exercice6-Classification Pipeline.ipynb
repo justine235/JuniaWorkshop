{
  "cells": [
    {
      "cell_type": "code",
      "source": [
        "import json\r\n",
        "import logging\r\n",
        "import os\r\n",
        "\r\n",
        "from matplotlib import pyplot as plt\r\n",
        "import pandas as pd\r\n",
        "\r\n",
        "import azureml.core\r\n",
        "from azureml.core.experiment import Experiment\r\n",
        "from azureml.core.workspace import Workspace\r\n",
        "from azureml.train.automl import AutoMLConfig\r\n"
      ],
      "outputs": [],
      "execution_count": 6,
      "metadata": {
        "gather": {
          "logged": 1665681023245
        }
      }
    },
    {
      "cell_type": "code",
      "source": [
        "from azureml.core import Datastore\r\n",
        "# ************ Variable d'environnement ************ #\r\n",
        "\r\n",
        "# connection au Workspace\r\n",
        " # to be filled\r\n",
        "\r\n",
        "# Choose a name for the run history container in the workspace.\r\n",
        " # to be filled\r\n",
        "\r\n",
        "# compute name for the job \r\n",
        " # to be filled\r\n",
        "\r\n",
        "# define the datastore\r\n",
        "datastore = ws.get_default_datastore()\r\n",
        "\r\n"
      ],
      "outputs": [],
      "execution_count": null,
      "metadata": {
        "jupyter": {
          "source_hidden": false,
          "outputs_hidden": false
        },
        "nteract": {
          "transient": {
            "deleting": false
          }
        }
      }
    },
    {
      "cell_type": "code",
      "source": [
        "# Environment\r\n",
        "from azureml.core import Environment,RunConfiguration\r\n",
        "\r\n",
        "sklearn_env = Environment.get(ws,name=\"AzureML-Tutorial\")\r\n",
        "pipeline_run_config = RunConfiguration()\r\n",
        "pipeline_run_config.environment = sklearn_env"
      ],
      "outputs": [],
      "execution_count": null,
      "metadata": {
        "jupyter": {
          "source_hidden": false,
          "outputs_hidden": false
        },
        "nteract": {
          "transient": {
            "deleting": false
          }
        }
      }
    },
    {
      "cell_type": "code",
      "source": [
        "# ************ Pipeline Body ************ #\r\n",
        "from azureml.pipeline.steps import PythonScriptStep\r\n",
        "from azureml.core import ScriptRunConfig\r\n",
        "\r\n",
        "# step 1 préparation\r\n",
        "preprocess = PythonScriptStep(name=\"preprocess\",\r\n",
        "       script_name=\"***********\",\r\n",
        "       compute_target=\"***********\",\r\n",
        "       runconfig=pipeline_run_config,\r\n",
        "       allow_reuse=True\r\n",
        "   )\r\n",
        "\r\n",
        "\r\n",
        "# step 2 modelisation\r\n",
        "\"*****to be created ******\"\r\n",
        "\r\n",
        "\r\n",
        "# step 3 evaluation & registered\r\n",
        "\"*****to be created ******\"\r\n",
        "\r\n"
      ],
      "outputs": [],
      "execution_count": null,
      "metadata": {
        "jupyter": {
          "source_hidden": false,
          "outputs_hidden": false
        },
        "nteract": {
          "transient": {
            "deleting": false
          }
        }
      }
    },
    {
      "cell_type": "code",
      "source": [
        "from azureml.core import Workspace,Experiment,Run,Dataset,Model,Environment\r\n",
        "from azureml.pipeline.core import Pipeline, PipelineData, PipelineParameter\r\n",
        "\r\n",
        "\r\n",
        "pipeline_steps = [preprocess,train,eval]\r\n",
        "train.run_after(preprocess)\r\n",
        "eval.run_after(train)\r\n",
        "\r\n",
        "pipeline = Pipeline(ws, steps=pipeline_steps)\r\n",
        "pipeline_run = experiment.submit(pipeline)\r\n",
        "pipeline_run.wait_for_completion()"
      ],
      "outputs": [],
      "execution_count": null,
      "metadata": {
        "jupyter": {
          "source_hidden": false,
          "outputs_hidden": false
        },
        "nteract": {
          "transient": {
            "deleting": false
          }
        }
      }
    }
  ],
  "metadata": {
    "kernelspec": {
      "name": "python38-azureml",
      "language": "python",
      "display_name": "Python 3.8 - AzureML"
    },
    "language_info": {
      "name": "python",
      "version": "3.8.5",
      "mimetype": "text/x-python",
      "codemirror_mode": {
        "name": "ipython",
        "version": 3
      },
      "pygments_lexer": "ipython3",
      "nbconvert_exporter": "python",
      "file_extension": ".py"
    },
    "kernel_info": {
      "name": "python38-azureml"
    },
    "nteract": {
      "version": "nteract-front-end@1.0.0"
    },
    "microsoft": {
      "host": {
        "AzureML": {
          "notebookHasBeenCompleted": true
        }
      }
    }
  },
  "nbformat": 4,
  "nbformat_minor": 2
}